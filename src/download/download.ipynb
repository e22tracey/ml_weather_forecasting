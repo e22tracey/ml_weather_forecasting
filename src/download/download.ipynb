{
 "cells": [
  {
   "cell_type": "markdown",
   "metadata": {},
   "source": [
    "Benson = EGUB/03658\n",
    "\n",
    "51.6201, -1.0983"
   ]
  },
  {
   "cell_type": "code",
   "execution_count": null,
   "metadata": {},
   "outputs": [],
   "source": [
    "import datetime as dt\n",
    "import glob\n",
    "import os\n",
    "\n",
    "import cfgrib\n",
    "import requests\n",
    "import xarray as xr\n",
    "from dask.distributed import wait, Client as DaskClient\n",
    "# from ecmwf.opendata import Client as ECMWFClient"
   ]
  },
  {
   "cell_type": "code",
   "execution_count": null,
   "metadata": {},
   "outputs": [],
   "source": [
    "dask_client = DaskClient(n_workers=4, threads_per_worker=2)"
   ]
  },
  {
   "cell_type": "markdown",
   "metadata": {},
   "source": [
    "## Dynamical - GFS"
   ]
  },
  {
   "cell_type": "code",
   "execution_count": null,
   "metadata": {},
   "outputs": [],
   "source": [
    "ds_gfs = xr.open_zarr(\"https://data.dynamical.org/noaa/gfs/forecast/latest.zarr?email=email@email.com\")\n",
    "\n",
    "ds_gfs"
   ]
  },
  {
   "cell_type": "code",
   "execution_count": null,
   "metadata": {},
   "outputs": [],
   "source": [
    "variable_list = [\n",
    "    \"pressure_reduced_to_mean_sea_level\",\n",
    "    \"relative_humidity_2m\", \n",
    "    \"temperature_2m\", \n",
    "    \"total_cloud_cover_atmosphere\", \n",
    "    \"wind_u_10m\",\n",
    "    \"wind_v_10m\"\n",
    "    ]\n",
    "\n",
    "temp_var_list = [\n",
    "    \"pressure_reduced_to_mean_sea_level\", \n",
    "    \"relative_humidity_2m\", \n",
    "    \"total_cloud_cover_atmosphere\"\n",
    "]\n",
    "\n",
    "ds_gfs_subset = ds_gfs[temp_var_list].sel(\n",
    "    latitude=slice(52, 51.25), longitude=slice(-1.5, -0.75), init_time=slice(\"2022-10-24\", \"2025-10-24\")\n",
    "    )\n",
    "ds_gfs_subset"
   ]
  },
  {
   "cell_type": "code",
   "execution_count": null,
   "metadata": {},
   "outputs": [],
   "source": [
    "with DaskClient():\n",
    "    ds_gfs_subset.to_zarr(\"data/gfs_benson.zarr\", mode=\"a\")"
   ]
  },
  {
   "cell_type": "code",
   "execution_count": null,
   "metadata": {},
   "outputs": [],
   "source": [
    "# pressure_reduced_to_mean_sea_level, relative_humidity_2m, total_cloud_cover_atmosphere\n",
    "\n",
    "xr.open_zarr(\"data/gfs_benson.zarr\")#.total_cloud_cover_atmosphere.isel(init_time=-1, latitude=-1, longitude=-1).plot()"
   ]
  },
  {
   "cell_type": "markdown",
   "metadata": {},
   "source": [
    "## ECMWF - IFS\n",
    "\n",
    "Data starts 2023-01-18\n",
    "\n",
    "- url to 20240131 00z = [yyyymmdd]/[run]z/0p4-beta/oper/[yyyymmdd][run]0000-[step]h-oper-fc.grib2\n",
    "- url to 20240228 00z = [yyyymmdd]/[run]z/0p25/oper/[yyyymmdd][run]0000-[step]h-oper-fc.grib2\n",
    "- url to 20250123 18z = [yyyymmdd]/[run]z/[ifs|aifs]/0p25/oper/[yyyymmdd][run]0000-[step]h-oper-fc.grib2\n",
    "- url to 20250209 06z = [yyyymmdd]/[run]z/[ifs]/0p25/oper/[yyyymmdd][run]0000-[step]h-oper-fc.grib2    * missing AIFS *\n",
    "- url to 20250225 00z = [yyyymmdd]/[run]z/[ifs|aifs-single]/0p25/[experimental]/oper/[yyyymmdd][run]0000-[step]h-oper-fc.grib2     * Experimental for AIFS *\n",
    "- url to 20250227 18z =[yyyymmdd]/[run]z/[ifs]/0p25/oper/[yyyymmdd][run]0000-[step]h-oper-fc.grib2    * missing AIFS *\n",
    "- url to now = [yyyymmdd]/[run]z/[ifs|aifs-single]/0p25/oper/[yyyymmdd][run]0000-[step]h-oper-fc.grib2"
   ]
  },
  {
   "cell_type": "code",
   "execution_count": null,
   "metadata": {},
   "outputs": [],
   "source": [
    "def request_url_process_data(url, grib_file_path, nc_file_path, date_str, run, step):\n",
    "    response = requests.get(url)\n",
    "\n",
    "    if response.status_code == 200:\n",
    "        with open(grib_file_path, \"wb\") as f:\n",
    "            f.write(response.content)\n",
    "        print(f\"Downloaded: {grib_file_path}\")\n",
    "\n",
    "    else:\n",
    "        print(f\"Couldn't download {date_str} {run}z {step}h - Status code: {response.status_code}\")\n",
    "        return False\n",
    "\n",
    "    ds_list = cfgrib.open_datasets(grib_file_path)\n",
    "    ds_list_final = []\n",
    "    vars = ['t2m', 'd2m', 'msl', 'u10', 'v10', 'tcc']\n",
    "    for ds_n in ds_list:\n",
    "        var_names = [var for var in vars if var in ds_n.data_vars]\n",
    "        if len(var_names) > 0:\n",
    "            if 'heightAboveGround' in ds_n.coords:\n",
    "                ds_n = ds_n.drop_vars('heightAboveGround')\n",
    "            ds_list_final.append(ds_n[var_names])\n",
    "\n",
    "    ds = xr.merge(ds_list_final, compat=\"no_conflicts\")\n",
    "    ds = ds.sel(latitude=slice(52, 51.25), longitude=slice(-1.5, -0.75))\n",
    "    ds.to_netcdf(nc_file_path)\n",
    "\n",
    "    ds.close()\n",
    "    for f in glob.glob(f\"{grib_file_path}*\"):\n",
    "        os.remove(f)\n"
   ]
  },
  {
   "cell_type": "code",
   "execution_count": null,
   "metadata": {},
   "outputs": [],
   "source": [
    "url_base = \"https://ecmwf-forecasts.s3.eu-central-1.amazonaws.com\"\n",
    "\n",
    "start_dt = dt.datetime(2023, 1, 19)\n",
    "end_dt = dt.datetime(2023, 1, 20)\n",
    "\n",
    "delta = dt.timedelta(days=1)\n",
    "\n",
    "dates = []\n",
    "while start_dt <= end_dt:\n",
    "    # add current date to list by converting  it to iso format\n",
    "    dates.append(start_dt)\n",
    "    # increment start date by timedelta\n",
    "    start_dt += delta\n",
    "\n",
    "date_str_list = [date.strftime(\"%Y%m%d\") for date in dates]\n",
    "runs = [\"00\", \"12\"]\n",
    "steps = list(range(0, 121, 3))\n",
    "\n",
    "futures = []\n",
    "ds_list = []\n",
    "for date_str in date_str_list:\n",
    "    for run in runs:\n",
    "        date_folder = f\"data/ecmwf_ifs/{date_str}_{run}z\"\n",
    "        os.makedirs(date_folder, exist_ok=True)\n",
    "\n",
    "        for step in steps:\n",
    "            url = f\"{url_base}/{date_str}/{run}z/0p4-beta/oper/{date_str}{run}0000-{step}h-oper-fc.grib2\"\n",
    "            grib_file_path = os.path.join(date_folder, f\"ifs_{date_str}_{run}z_{step}h.grib2\")\n",
    "            nc_file_path = os.path.join(date_folder, f\"ifs_{date_str}_{run}z_{step}h.nc\")\n",
    "\n",
    "            future = dask_client.submit(request_url_process_data, url, grib_file_path, nc_file_path, date_str, run, step)\n",
    "            futures.append(future)\n",
    "\n",
    "wait(futures)"
   ]
  }
 ],
 "metadata": {
  "kernelspec": {
   "display_name": ".venv",
   "language": "python",
   "name": "python3"
  },
  "language_info": {
   "codemirror_mode": {
    "name": "ipython",
    "version": 3
   },
   "file_extension": ".py",
   "mimetype": "text/x-python",
   "name": "python",
   "nbconvert_exporter": "python",
   "pygments_lexer": "ipython3",
   "version": "3.13.9"
  }
 },
 "nbformat": 4,
 "nbformat_minor": 2
}
